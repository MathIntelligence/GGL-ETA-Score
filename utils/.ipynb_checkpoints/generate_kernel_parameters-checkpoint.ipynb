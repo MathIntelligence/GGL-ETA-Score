{
 "cells": [
  {
   "cell_type": "code",
   "execution_count": 17,
   "id": "c87bd97c-cda8-4de8-9fb3-6a651d5832c1",
   "metadata": {},
   "outputs": [],
   "source": [
    "import os\n",
    "from itertools import product\n",
    "import pandas as pd"
   ]
  },
  {
   "cell_type": "code",
   "execution_count": 46,
   "id": "26833332-ca2e-499c-b4dd-54d3726dd9d7",
   "metadata": {},
   "outputs": [],
   "source": [
    "eta = [i/2 for i in range(1, 21)]\n",
    "power = [i/2 for i in range(1,41)]\n",
    "\n",
    "all_etas = [e[0] for e in product(eta,power)]\n",
    "all_powers = [e[1] for e in product(eta,power)]\n",
    "\n",
    "types = ['exponential_kernel']*len(all_etas) + ['lorentz_kernel']*len(all_etas)\n",
    "# we replicate the list for \"exponetial\" and \"lorentz\"\n",
    "all_etas += all_etas\n",
    "all_powers += all_powers\n",
    "\n",
    "df = pd.DataFrame(data={'type': types, 'eta': all_etas, 'power': all_powers})\n",
    "df.to_csv('../kernels/kernels.csv', index=False)"
   ]
  }
 ],
 "metadata": {
  "kernelspec": {
   "display_name": "Python 3",
   "language": "python",
   "name": "python3"
  },
  "language_info": {
   "codemirror_mode": {
    "name": "ipython",
    "version": 3
   },
   "file_extension": ".py",
   "mimetype": "text/x-python",
   "name": "python",
   "nbconvert_exporter": "python",
   "pygments_lexer": "ipython3",
   "version": "3.8.8"
  }
 },
 "nbformat": 4,
 "nbformat_minor": 5
}
