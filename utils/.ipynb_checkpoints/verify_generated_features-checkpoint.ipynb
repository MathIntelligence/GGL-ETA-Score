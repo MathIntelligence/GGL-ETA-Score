{
 "cells": [
  {
   "cell_type": "code",
   "execution_count": 2,
   "id": "b4c149bc-26db-4bb9-87f0-a16f37d71623",
   "metadata": {},
   "outputs": [],
   "source": [
    "import os\n",
    "import pandas as pd"
   ]
  },
  {
   "cell_type": "code",
   "execution_count": 9,
   "id": "ceb4e72a-2c10-4d3d-bac6-6102a7c4b08e",
   "metadata": {},
   "outputs": [],
   "source": [
    "kernels = pd.read_csv('../kernels/kernels.csv')\n",
    "n_kernels = kernels.shape[0]"
   ]
  },
  {
   "cell_type": "code",
   "execution_count": 14,
   "id": "6192ad6c-5a83-4421-bc2b-f2d3a30db3cc",
   "metadata": {},
   "outputs": [],
   "source": [
    "def verify(data_name, cutoff):\n",
    "#data_name = 'CASF_2016_CoreSet'\n",
    "    path_to_features = '/mnt/gpfs2_4m/scratch/ddng223/RI-Score/features'\n",
    "    missing_features = []\n",
    "    for ker_index in range(1, n_kernels+1):\n",
    "        feature_file = f'{path_to_features}/{data_name}_ker{ker_index}_cutoff{cutoff}.csv'\n",
    "        if not os.path.isfile(feature_file):\n",
    "            missing_features.append(feature_file)\n",
    "    print('missing features', missing_features)"
   ]
  },
  {
   "cell_type": "code",
   "execution_count": 16,
   "id": "2ff3f730-0e2e-468f-89c1-0e4bcce3396d",
   "metadata": {},
   "outputs": [
    {
     "name": "stdout",
     "output_type": "stream",
     "text": [
      "missing features []\n"
     ]
    }
   ],
   "source": [
    "verify('CASF_2016_CoreSet', 12.0)"
   ]
  },
  {
   "cell_type": "code",
   "execution_count": 17,
   "id": "b1358901-d90d-4495-886d-5f6c22a76f5f",
   "metadata": {},
   "outputs": [
    {
     "name": "stdout",
     "output_type": "stream",
     "text": [
      "missing features []\n"
     ]
    }
   ],
   "source": [
    "verify('PDBbindv2016_RefinedSet', 12.0)"
   ]
  }
 ],
 "metadata": {
  "kernelspec": {
   "display_name": "Python 3",
   "language": "python",
   "name": "python3"
  },
  "language_info": {
   "codemirror_mode": {
    "name": "ipython",
    "version": 3
   },
   "file_extension": ".py",
   "mimetype": "text/x-python",
   "name": "python",
   "nbconvert_exporter": "python",
   "pygments_lexer": "ipython3",
   "version": "3.8.8"
  }
 },
 "nbformat": 4,
 "nbformat_minor": 5
}
